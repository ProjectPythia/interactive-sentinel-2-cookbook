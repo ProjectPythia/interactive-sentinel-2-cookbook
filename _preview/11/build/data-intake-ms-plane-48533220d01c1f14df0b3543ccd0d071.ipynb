{
 "cells": [
  {
   "attachments": {},
   "cell_type": "markdown",
   "metadata": {},
   "source": [
    "# Interactive dashboard for Sentinel-2 satellite imagery\n",
    "---"
   ]
  },
  {
   "attachments": {},
   "cell_type": "markdown",
   "metadata": {},
   "source": [
    "## Overview\n",
    "\n",
    "In this notebook, we will take a look at how to retrieve Sentinel-2 L2A satellite imagery from the [Microsoft Planetary Computer Data Catalog (MSPC)](https://planetarycomputer.microsoft.com/catalog). We will go over how to interact with the Data Catalog, which exposes a [SpatioTemporal Asset Catalog (STAC)](https://stacspec.org/en) interface for querying, searching and retrieving data. We will use the [odc-stac](https://odc-stac.readthedocs.io/en/latest/) package to load the data lazily, which means data is not *actually* read unless required (say, for plotting). Once loaded, we will process the data and make a simple interactive dashboard to look at the satellite imagery over a location for different seasons. We will use the [HoloViz ecosystem](https://holoviz.org/background.html) for the interactive dashboard."
   ]
  },
  {
   "attachments": {},
   "cell_type": "markdown",
   "metadata": {},
   "source": [
    "## Prerequisites\n",
    "\n",
    "| Concepts | Importance | Notes |\n",
    "|---|---|---|\n",
    "|[Xarray](https://foundations.projectpythia.org/core/xarray.html)|Helpful|Background|\n",
    "|[Dask + Xarray](https://foundations.projectpythia.org/core/xarray/dask-arrays-xarray.html)|Necessary|Background|\n",
    "|[About the Microsoft Planetary Computer (MSPC)](https://planetarycomputer.microsoft.com/docs/overview/about/)|Helpful|Background|\n",
    "|[Documentation of pystac-client](https://pystac-client.readthedocs.io/en/stable/)|Helpful|Consult as needed|\n",
    "|[Landsat ML Cookbook](https://projectpythia.org/landsat-ml-cookbook/README.html)|Helpful|Similar cookbook, illustrates accessing Landsat data from MSPC|\n",
    "|[About the HoloViz ecosystem](https://holoviz.org/background.html)|Helpful|How different HoloViz packages work with each other|\n",
    "|[Sentinel-2 L2A User Guide](https://sentinel.esa.int/web/sentinel/user-guides/sentinel-2-msi/processing-levels/level-2)|Necessary|Background about the satellite data|\n",
    "|[Sentinel-2 L2A data definitions](https://sentinel.esa.int/documents/247904/685211/Sen2-Cor-L2A-Input-Output-Data-Definition-Document.pdf/e2dd6f01-c9c7-494d-a7f2-cd3be9ad891a?t=1506524754000)|Helpful|Section 2.3.10 has some useful information about the data we access in this cookbook|\n",
    "- **Time to learn**: 15 minutes"
   ]
  },
  {
   "attachments": {},
   "cell_type": "markdown",
   "metadata": {},
   "source": [
    "## Imports"
   ]
  },
  {
   "cell_type": "code",
   "execution_count": null,
   "metadata": {
    "tags": []
   },
   "outputs": [],
   "source": [
    "import os\n",
    "import pandas as pd\n",
    "import numpy as np\n",
    "import xarray as xr\n",
    "import pystac_client\n",
    "import planetary_computer\n",
    "import panel as pn\n",
    "import panel.widgets as pnw\n",
    "import hvplot.xarray\n",
    "import holoviews as hv\n",
    "import geoviews as gv\n",
    "from pystac.extensions.eo import EOExtension as eo\n",
    "import datetime\n",
    "from cartopy import crs\n",
    "from dask.distributed import Client, LocalCluster\n",
    "import odc.stac\n",
    "\n",
    "xr.set_options(keep_attrs=True)\n",
    "hv.extension('bokeh')\n",
    "gv.extension('bokeh')"
   ]
  },
  {
   "attachments": {},
   "cell_type": "markdown",
   "metadata": {},
   "source": [
    "Since we will use dask to distribute our computation, we can create a dask cluster and connect to it via a dask client. For this recipe, we will create a [`LocalCluster`](https://docs.dask.org/en/stable/deploying-python.html#localcluster) with default values."
   ]
  },
  {
   "cell_type": "code",
   "execution_count": null,
   "metadata": {},
   "outputs": [],
   "source": [
    "cluster = LocalCluster()\n",
    "client = Client(cluster)\n",
    "client"
   ]
  },
  {
   "attachments": {},
   "cell_type": "markdown",
   "metadata": {},
   "source": [
    "# Open the catalog"
   ]
  },
  {
   "attachments": {},
   "cell_type": "markdown",
   "metadata": {},
   "source": [
    "The root of Microsoft Planetary Computer's STAC API endpoint is located at [https://planetarycomputer.microsoft.com/api/stac/v1](https://planetarycomputer.microsoft.com/api/stac/v1). We will load in the catalog using the `pystac_client.Client.open` method. Even though the STAC metadata in MSPC is publicly accessible, authentication is required to access the actual data. The `modifier` keyword can be used to explicitly \"sign\" an item, which basically means we can access the privately stored data (more information [here](https://planetarycomputer.microsoft.com/docs/quickstarts/reading-stac/))."
   ]
  },
  {
   "cell_type": "code",
   "execution_count": null,
   "metadata": {},
   "outputs": [],
   "source": [
    "stac_root = 'https://planetarycomputer.microsoft.com/api/stac/v1'\n",
    "catalog = pystac_client.Client.open(\n",
    "    stac_root,\n",
    "    modifier=planetary_computer.sign_inplace\n",
    ")\n",
    "print(f\"{catalog.title} - {catalog.description}\")"
   ]
  },
  {
   "attachments": {},
   "cell_type": "markdown",
   "metadata": {},
   "source": [
    "Let's search for any collections that have the substring \"sentinel-2\" in it to discover the sentinel-2 data."
   ]
  },
  {
   "cell_type": "code",
   "execution_count": null,
   "metadata": {},
   "outputs": [],
   "source": [
    "sentinel2_collections = [collection for collection in catalog.get_collections() if \"sentinel-2\" in collection.id]\n",
    "sentinel2_collections"
   ]
  },
  {
   "attachments": {},
   "cell_type": "markdown",
   "metadata": {},
   "source": [
    "Looks like there is only one collection (`sentinel-2-l2a`) available in the catalog - which is the dataset we want to use."
   ]
  },
  {
   "attachments": {},
   "cell_type": "markdown",
   "metadata": {},
   "source": [
    "# Query, Filter and Load the collection"
   ]
  },
  {
   "attachments": {},
   "cell_type": "markdown",
   "metadata": {},
   "source": [
    "Now that we have the ID of the collection of interest, we can specify certain filters to narrow down to exactly the data we want to look at. The final visualization in the recipe will look at how the NCAR Mesa Lab, Boulder CO looks like throughout the year as seen from space. To narrow down our search, we will use the following criteria -\n",
    "- Bounding box: We will limit our spatial extent to the bounding box of the NCAR Mesa Lab region.\n",
    "- Date range: We will look at the year 2022\n",
    "- Collection: `sentinel-2-l2a` (from previous cell)\n",
    "- Cloud threshold: Since cloud can block the satellite from making an observation of the ground, we will limit our search to satellite images where the cloud cover is less than a certain threshold, 40% in this case.\n",
    "\n",
    "Feel free to change these filtering paramters to suit your needs when running in an interactive session."
   ]
  },
  {
   "cell_type": "code",
   "execution_count": null,
   "metadata": {},
   "outputs": [],
   "source": [
    "bbox = [-105.283263,39.972809,-105.266569,39.987640] # NCAR, boulder, CO. bbox from http://bboxfinder.com/\n",
    "date_range = \"2022-01-01/2022-12-31\"\n",
    "collection = \"sentinel-2-l2a\"                        # full id of collection\n",
    "cloud_thresh = 30"
   ]
  },
  {
   "cell_type": "code",
   "execution_count": null,
   "metadata": {},
   "outputs": [],
   "source": [
    "search = catalog.search(\n",
    "    collections = sentinel2_collections,\n",
    "    bbox = bbox,\n",
    "    datetime = date_range,\n",
    "    query={\"eo:cloud_cover\": {\"lt\": cloud_thresh}}\n",
    ")\n",
    "items = search.item_collection()\n",
    "print(f\"Found {len(items)} items in the {collection}\")"
   ]
  },
  {
   "attachments": {},
   "cell_type": "markdown",
   "metadata": {},
   "source": [
    "We now have an ItemCollection with the data that we need. Let's look at one of the items in the collection and explore what assets it has."
   ]
  },
  {
   "cell_type": "code",
   "execution_count": null,
   "metadata": {},
   "outputs": [],
   "source": [
    "first_item = items.items[0]\n",
    "all_bands = list(first_item.assets.keys())\n",
    "print(\"Assets available:\")\n",
    "print(*all_bands, sep=', ')"
   ]
  },
  {
   "attachments": {},
   "cell_type": "markdown",
   "metadata": {},
   "source": [
    "Seems like there are a lot of assets associated with the item - you can read about them [here](https://sentinel.esa.int/web/sentinel/user-guides/sentinel-2-msi/processing-levels/level-2). We are interested in the assets that start with a 'B', which are the bands associated with the different spectral bands in which the [MultiSpectral Instrument (MSI)](https://sentinels.copernicus.eu/web/sentinel/technical-guides/sentinel-2-msi/msi-instrument) of the satellite captures observations. Specifically, the RGB – or Red, Green and Blue - bands that we need to create a \"True color\" image are as follows:\n",
    "|band|corresponds to|\n",
    "|-|-|\n",
    "|B04|Red|\n",
    "|B03|Green|\n",
    "|B02|Blue|\n",
    "\n",
    "We will use the `odc.stac.stac_load` function to load in the assets that start with the alphabet 'B'. This function will return a lazily-loaded `xr.DataSet` (using dask). For plotting purposes it is better if we have the data as a `xr.DataArray` instead with the bands as a dimension. We can do that using `.to_array(dim=<dim_name>)` method of a dataset."
   ]
  },
  {
   "cell_type": "code",
   "execution_count": null,
   "metadata": {},
   "outputs": [],
   "source": [
    "bands_of_interest = [b for b in all_bands if b.startswith('B')]\n",
    "\n",
    "da = odc.stac.stac_load(\n",
    "    items,\n",
    "    bands=bands_of_interest,\n",
    "    bbox=bbox,\n",
    "    chunks={},  # <-- use Dask\n",
    ").to_array(dim='band')\n",
    "da"
   ]
  },
  {
   "attachments": {},
   "cell_type": "markdown",
   "metadata": {},
   "source": [
    "## Prepare the data for visualization"
   ]
  },
  {
   "attachments": {},
   "cell_type": "markdown",
   "metadata": {},
   "source": [
    "On January 25th, 2022, the European Space Agency (data provider for Sentinel-2 satellite) made a change in their processing pipeline to address some issues that you can read about [here](https://sentinels.copernicus.eu/web/sentinel/-/copernicus-sentinel-2-major-products-upgrade-upcoming) if interested. For the purpose of this notebook, we will process the newer dataset such that it is harmonized with the old processing pipeline - in simple words, we will make sure that the data has the same statistical properties so that we can visualize them seamlessly."
   ]
  },
  {
   "cell_type": "code",
   "execution_count": null,
   "metadata": {},
   "outputs": [],
   "source": [
    "# from https://planetarycomputer.microsoft.com/dataset/sentinel-2-l2a#Baseline-Change\n",
    "def harmonize_to_old(data):  \n",
    "    \"\"\"\n",
    "    Harmonize new Sentinel-2 data to the old baseline.\n",
    "\n",
    "    Parameters\n",
    "    ----------\n",
    "    data: xarray.DataArray\n",
    "        A DataArray with four dimensions: time, band, y, x\n",
    "\n",
    "    Returns\n",
    "    -------\n",
    "    harmonized: xarray.DataArray\n",
    "        A DataArray with all values harmonized to the old\n",
    "        processing baseline.\n",
    "    \"\"\"\n",
    "    cutoff = datetime.datetime(2022, 1, 25)\n",
    "    offset = 1000\n",
    "    bands = [\"B01\",\"B02\",\"B03\",\"B04\",\"B05\",\"B06\",\"B07\",\"B08\",\"B8A\",\"B09\",\"B10\",\"B11\",\"B12\"]\n",
    "\n",
    "    old = data.sel(time=slice(cutoff))\n",
    "\n",
    "    to_process = list(set(bands) & set(data.band.data.tolist()))\n",
    "    new = data.sel(time=slice(cutoff, None)).drop_sel(band=to_process)\n",
    "\n",
    "    new_harmonized = data.sel(time=slice(cutoff, None), band=to_process).clip(offset)\n",
    "    new_harmonized -= offset\n",
    "\n",
    "    new = xr.concat([new, new_harmonized], \"band\").sel(band=data.band.data.tolist())\n",
    "    return xr.concat([old, new], dim=\"time\")\n",
    "\n",
    "da = harmonize_to_old(da)\n",
    "da"
   ]
  },
  {
   "attachments": {},
   "cell_type": "markdown",
   "metadata": {},
   "source": [
    "Now that we have a harmonized dataset, we still need to process the data as follows:\n",
    "- Sentinel-2 L2A provides the Surface Reflectance (SR) data, which usually ranges from 0 (no reflection) to 1.0 (complete reflection). However, the actual values in the loaded dataset ranges from 0 to ~10,000. These data values need to be scaled to 0.0-1.0 by dividing the data by 10,000. More details can be found in [section 2.3.10 of this document](https://sentinel.esa.int/documents/247904/685211/Sen2-Cor-L2A-Input-Output-Data-Definition-Document.pdf/e2dd6f01-c9c7-494d-a7f2-cd3be9ad891a?t=1506524754000).\n",
    "\n",
    "We will then explicitly trigger the dask computation using the `compute()` method and load the result into memory. This is to reduce repeated calls to retrieve data from MSPC. By loading the processed  This wouldn't have been possible if the dataset was large."
   ]
  },
  {
   "cell_type": "code",
   "execution_count": null,
   "metadata": {},
   "outputs": [],
   "source": [
    "da = da / 1e4   # Scale data values from 0:10000 to 0:1.0\n",
    "da = da / da.max(dim='band')  # additionally scale from 0-max -> 0-1 for visual quality\n",
    "da = da.compute()"
   ]
  },
  {
   "attachments": {},
   "cell_type": "markdown",
   "metadata": {},
   "source": [
    "We have now processed the data so that we can visualize it!\n",
    "\n",
    "Let's look at the Blue, Green and Red bands."
   ]
  },
  {
   "cell_type": "code",
   "execution_count": null,
   "metadata": {},
   "outputs": [],
   "source": [
    "def plot_band(band, cmap):\n",
    "    return da.sel(band=band).isel(time=0).hvplot(\n",
    "        x='x', y='y', data_aspect=1, \n",
    "        cmap=cmap, geo=True, tiles='ESRI', \n",
    "        crs=crs.epsg(items[0].properties['proj:epsg']), rasterize=True,\n",
    "        title=f\"band: {band}, cmap: {cmap}\",\n",
    "        clabel='surface reflectance [0.0-1.0]'\n",
    "    ).opts(\n",
    "        frame_width=300,\n",
    "        xlabel='longitude',\n",
    "        ylabel='latitude',\n",
    "        \n",
    "    )\n",
    "\n",
    "(plot_band('B04', 'Blues') + plot_band('B03', 'Greens') + plot_band('B02', 'Reds')).cols(2)"
   ]
  },
  {
   "attachments": {},
   "cell_type": "markdown",
   "metadata": {},
   "source": [
    "Let us make a dashboard composed of 4 different interactive plots showing the RGB view of the satellite observation for four different seasons.\n",
    "We need a function that will take a `time` input and does the following tasks:\n",
    " 1. plot an interactive RGB image of the data and overlay it on a map of the world.\n",
    " 2. provide a [date slider widget](https://panel.holoviz.org/reference/widgets/DateSlider.html) which can be used to interact with the plot.\n",
    " 3. only set the default value of the date slider to the `time`, but allow the user to slide through the length of the entire dataset.\n",
    "\n",
    "Using this function, we will be able to compose the dashboard."
   ]
  },
  {
   "cell_type": "code",
   "execution_count": null,
   "metadata": {
    "tags": []
   },
   "outputs": [],
   "source": [
    "def rgb_during(time):\n",
    "    season_names = {\n",
    "        1: 'Winter',\n",
    "        2: 'Spring',\n",
    "        3: 'Summer',\n",
    "        4: 'Fall'\n",
    "    }\n",
    "    da_rgb = da.sel(band=['B04', 'B03', 'B02'])\n",
    "    start_date = pd.to_datetime(da_rgb['time'].min().data).to_pydatetime()\n",
    "    end_date = pd.to_datetime(da_rgb['time'].max().data).to_pydatetime()\n",
    "    closest_date = pd.to_datetime(da_rgb.sel(time=time, method='nearest').time.data).to_pydatetime()\n",
    "    dt_slider = pnw.DateSlider(name='Date', start=start_date, end=end_date, value=closest_date)\n",
    "    \n",
    "    def get_obs_on(t):\n",
    "        season_key = [month%12 // 3 + 1 for month in range(1, 13)][t.month-1]\n",
    "        season = season_names[season_key]\n",
    "        return da.sel(band=['B04', 'B03', 'B02']).sel(time=t, method='nearest').transpose('y', 'x', 'band').hvplot.rgb(\n",
    "            x='x', y='y', bands='band', \n",
    "            geo=True, tiles='ESRI', crs=crs.epsg(items[0].properties['proj:epsg']), \n",
    "            rasterize=True, title=f\"{season}: {t.strftime('%Y-%m-%d')}\"\n",
    "        ).opts(\n",
    "            frame_width=300,\n",
    "            xlabel='longitude',\n",
    "            ylabel='latitude',\n",
    "        )\n",
    "        \n",
    "    \n",
    "    return pn.panel(pn.Column(\n",
    "                pn.bind(get_obs_on, t=dt_slider), \n",
    "                pn.Row(\n",
    "                    pn.Spacer(width=60),\n",
    "                    dt_slider,\n",
    "                )\n",
    "            ))"
   ]
  },
  {
   "cell_type": "code",
   "execution_count": null,
   "metadata": {
    "tags": []
   },
   "outputs": [],
   "source": [
    "rgb_during('2022-02-01')"
   ]
  },
  {
   "attachments": {},
   "cell_type": "markdown",
   "metadata": {},
   "source": [
    "Let's now compose a dashboard using `panel`."
   ]
  },
  {
   "cell_type": "code",
   "execution_count": null,
   "metadata": {},
   "outputs": [],
   "source": [
    "winter = '2022-01-15'\n",
    "spring = '2022-04-30'\n",
    "summer = '2022-08-01'\n",
    "fall = '2022-09-15'\n",
    "\n",
    "winter_plot = rgb_during(winter)\n",
    "spring_plot = rgb_during(spring)\n",
    "summer_plot = rgb_during(summer)\n",
    "fall_plot = rgb_during(fall)\n",
    "\n",
    "pn.Column(\n",
    "    pn.Row(winter_plot, spring_plot),\n",
    "    pn.Row(summer_plot, fall_plot)\n",
    ")"
   ]
  },
  {
   "attachments": {},
   "cell_type": "markdown",
   "metadata": {},
   "source": [
    "---\n",
    "## Summary\n",
    "In this recipe, we looked at how to access Sentinel-2 satellite data over a region of interest and create an interactive dashboard to visualize the data.\n",
    "\n",
    "### What's next?\n",
    "We plotted the RGB or True color image of our region of interest using a subset of all the bands available. We can further calculate useful indices, such as the [Normalized Difference Snow Index (NDSI)](https://nsidc.org/data/user-resources/help-center/what-ndsi-snow-cover-and-how-does-it-compare-fsc) or the [Normalized Difference Vegetation Index](https://en.wikipedia.org/wiki/Normalized_difference_vegetation_index).\n",
    "\n",
    "## Resources and references\n",
    "- Authored by Pritam Das ([@pritamd47](https://github.com/pritamd47)), June 2023 during Project Pythia cookoff 2023.\n",
    "- This notebook takes a lot of inspiration from the [Landsat ML Cookbook](https://github.com/ProjectPythia/landsat-ml-cookbook/) by Demetris Roumis.\n",
    "- This notebook uses concepts and code illustrated in the [Reading Data from the STAC API](https://planetarycomputer.microsoft.com/docs/quickstarts/reading-stac/)."
   ]
  }
 ],
 "metadata": {
  "kernelspec": {
   "display_name": "Python 3 (ipykernel)",
   "language": "python",
   "name": "python3"
  },
  "language_info": {
   "codemirror_mode": {
    "name": "ipython",
    "version": 3
   },
   "file_extension": ".py",
   "mimetype": "text/x-python",
   "name": "python",
   "nbconvert_exporter": "python",
   "pygments_lexer": "ipython3",
   "version": "3.12.2"
  }
 },
 "nbformat": 4,
 "nbformat_minor": 4
}
