{
 "cells": [
  {
   "attachments": {},
   "cell_type": "markdown",
   "metadata": {},
   "source": [
    "# Ingesting Sentinel-2 L2A data from Microsoft Planetary Computer"
   ]
  },
  {
   "attachments": {},
   "cell_type": "markdown",
   "metadata": {},
   "source": [
    "## Overview\n",
    "\n",
    "In this notebook, we will take a look at how to interact with [SpatioTemporal Asset Catalogs (STAC)](https://stacspec.org/en) using [PySTAC](https://pystac.readthedocs.io/en/stable/)."
   ]
  },
  {
   "cell_type": "code",
   "execution_count": null,
   "metadata": {},
   "outputs": [],
   "source": [
    "import os\n",
    "import pandas as pd\n",
    "import xarray as xr\n",
    "import stackstac\n",
    "import pystac_client\n",
    "import planetary_computer\n",
    "import panel as pn\n",
    "import panel.widgets as pnw\n",
    "import hvplot.xarray\n",
    "import holoviews as hv\n",
    "import geoviews as gv\n",
    "from pystac.extensions.eo import EOExtension as eo\n",
    "import datetime\n",
    "import requests\n",
    "# import xmltodict\n",
    "from cartopy import crs\n",
    "from dask.distributed import Client, LocalCluster\n",
    "\n",
    "xr.set_options(keep_attrs=True)\n",
    "hv.extension('bokeh')\n",
    "gv.extension('bokeh')"
   ]
  },
  {
   "cell_type": "code",
   "execution_count": null,
   "metadata": {},
   "outputs": [],
   "source": [
    "cluster = LocalCluster(n_workers=os.cpu_count())\n",
    "client = Client(cluster)\n",
    "client"
   ]
  },
  {
   "attachments": {},
   "cell_type": "markdown",
   "metadata": {},
   "source": [
    "# Open the catalog"
   ]
  },
  {
   "cell_type": "code",
   "execution_count": null,
   "metadata": {},
   "outputs": [],
   "source": [
    "stac_root = 'https://planetarycomputer.microsoft.com/api/stac/v1'\n",
    "stac_s2 = 'https://planetarycomputer.microsoft.com/api/stac/v1/collections/sentinel-2-l2a'\n",
    "catalog = pystac_client.Client.open(\n",
    "    stac_root,\n",
    "    modifier=planetary_computer.sign_inplace\n",
    ")\n",
    "print(f\"{catalog.title} - {catalog.description}\")"
   ]
  },
  {
   "cell_type": "code",
   "execution_count": null,
   "metadata": {},
   "outputs": [],
   "source": [
    "sentinel2_collections = [collection for collection in catalog.get_collections() if \"sentinel-2\" in collection.id]\n",
    "sentinel2_collections"
   ]
  },
  {
   "attachments": {},
   "cell_type": "markdown",
   "metadata": {},
   "source": [
    "# Search the collection"
   ]
  },
  {
   "cell_type": "code",
   "execution_count": null,
   "metadata": {},
   "outputs": [],
   "source": [
    "bbox = [-105.283263,39.972809,-105.266569,39.987640] # NCAR, boulder, CO. bbox from http://bboxfinder.com/\n",
    "dt = \"2022-01-01/2023-01-31\" # 2022, month of January\n",
    "collection = \"sentinel-2-l2a\" # full id of collection\n",
    "cloud_thresh = 40"
   ]
  },
  {
   "cell_type": "code",
   "execution_count": null,
   "metadata": {},
   "outputs": [],
   "source": [
    "search = catalog.search(\n",
    "    collections = sentinel2_collections,\n",
    "    bbox = bbox,\n",
    "    datetime = dt,\n",
    "    query={\"eo:cloud_cover\": {\"lt\": cloud_thresh}}\n",
    ")\n",
    "items = search.item_collection()\n",
    "print(f\"Found {len(items)} items in the {collection}\")"
   ]
  },
  {
   "cell_type": "markdown",
   "metadata": {},
   "source": [
    "Let's get the band names that we are interested in"
   ]
  },
  {
   "cell_type": "code",
   "execution_count": null,
   "metadata": {},
   "outputs": [],
   "source": [
    "first_item = items.items[0]\n",
    "all_bands = list(first_item.assets.keys())\n",
    "print(*all_bands, sep=', ')"
   ]
  },
  {
   "cell_type": "code",
   "execution_count": null,
   "metadata": {},
   "outputs": [],
   "source": [
    "bands_of_interest = [b for b in all_bands if b.startswith('B')]\n",
    "\n",
    "da = stackstac.stack(\n",
    "    items,\n",
    "    bounds_latlon=bbox,\n",
    "    assets=bands_of_interest,\n",
    "    chunksize='100MiB'\n",
    ").persist()\n",
    "da"
   ]
  },
  {
   "cell_type": "code",
   "execution_count": null,
   "metadata": {},
   "outputs": [],
   "source": [
    "# from https://planetarycomputer.microsoft.com/dataset/sentinel-2-l2a#Baseline-Change\n",
    "def harmonize_to_old(data):  \n",
    "    \"\"\"\n",
    "    Harmonize new Sentinel-2 data to the old baseline.\n",
    "\n",
    "    Parameters\n",
    "    ----------\n",
    "    data: xarray.DataArray\n",
    "        A DataArray with four dimensions: time, band, y, x\n",
    "\n",
    "    Returns\n",
    "    -------\n",
    "    harmonized: xarray.DataArray\n",
    "        A DataArray with all values harmonized to the old\n",
    "        processing baseline.\n",
    "    \"\"\"\n",
    "    cutoff = datetime.datetime(2022, 1, 25)\n",
    "    offset = 1000\n",
    "    bands = [\"B01\",\"B02\",\"B03\",\"B04\",\"B05\",\"B06\",\"B07\",\"B08\",\"B8A\",\"B09\",\"B10\",\"B11\",\"B12\"]\n",
    "\n",
    "    old = data.sel(time=slice(cutoff))\n",
    "\n",
    "    to_process = list(set(bands) & set(data.band.data.tolist()))\n",
    "    new = data.sel(time=slice(cutoff, None)).drop_sel(band=to_process)\n",
    "\n",
    "    new_harmonized = data.sel(time=slice(cutoff, None), band=to_process).clip(offset)\n",
    "    new_harmonized -= offset\n",
    "\n",
    "    new = xr.concat([new, new_harmonized], \"band\").sel(band=data.band.data.tolist())\n",
    "    return xr.concat([old, new], dim=\"time\")\n",
    "\n",
    "da = harmonize_to_old(da)\n",
    "da"
   ]
  },
  {
   "cell_type": "code",
   "execution_count": null,
   "metadata": {},
   "outputs": [],
   "source": [
    "# Seems like there is duplicate data in the time dimension\n",
    "da = da.drop_duplicates(dim='time')"
   ]
  },
  {
   "cell_type": "code",
   "execution_count": null,
   "metadata": {},
   "outputs": [],
   "source": [
    "da"
   ]
  },
  {
   "cell_type": "code",
   "execution_count": null,
   "metadata": {},
   "outputs": [],
   "source": [
    "da = (da / da.max(dim='band'))\n",
    "da.persist()"
   ]
  },
  {
   "cell_type": "code",
   "execution_count": null,
   "metadata": {},
   "outputs": [],
   "source": [
    "# da.sel(band=['B04', 'B03', 'B02']).sel(time='2022-05-30', method='nearest').plot.imshow(robust=True, size=5, aspect=1)  # works"
   ]
  },
  {
   "cell_type": "code",
   "execution_count": null,
   "metadata": {},
   "outputs": [],
   "source": [
    "# da.sel(band=['B04', 'B03', 'B02']).isel(time=0).hvplot(\n",
    "#     x='x',\n",
    "#     y='y',\n",
    "#     geo=True,\n",
    "#     tiles=\"ESRI\",\n",
    "#     xlabel=\"Longitude\", ylabel=\"Latitude\",\n",
    "#     clabel=\"Surface Reflectance\"\n",
    "# )"
   ]
  },
  {
   "cell_type": "code",
   "execution_count": null,
   "metadata": {},
   "outputs": [],
   "source": [
    "ds = da.to_dataset(dim='band').persist()\n",
    "ds"
   ]
  },
  {
   "cell_type": "code",
   "execution_count": null,
   "metadata": {},
   "outputs": [],
   "source": [
    "da.sel(band=['B04', 'B03', 'B02'])"
   ]
  },
  {
   "cell_type": "code",
   "execution_count": null,
   "metadata": {},
   "outputs": [],
   "source": [
    "season_names = {\n",
    "    1: 'Winter',\n",
    "    2: 'Spring',\n",
    "    3: 'Summer',\n",
    "    4: 'Fall'\n",
    "}\n",
    "\n",
    "\n",
    "def rgb_during(time):\n",
    "    da_rgb = da.sel(band=['B04', 'B03', 'B02'])\n",
    "    start_date = pd.to_datetime(da_rgb['time'].min().data).to_pydatetime()\n",
    "    end_date = pd.to_datetime(da_rgb['time'].max().data).to_pydatetime()\n",
    "    closest_date = pd.to_datetime(da_rgb.sel(time=time, method='nearest').time.data).to_pydatetime()\n",
    "    dt_slider = pnw.DateSlider(name='Date', start=start_date, end=end_date, value=closest_date)\n",
    "    \n",
    "    def get_obs_on(t):\n",
    "        season_key = [month%12 // 3 + 1 for month in range(1, 13)][t.month]\n",
    "        season = season_names[season_key]\n",
    "        return da_rgb.sel(time=t).hvplot.rgb(x='x', y='y', bands='band', data_aspect=1, geo=True, tiles='ESRI', rasterize=True, title=f\"{season}: {t.strftime('%Y-%m-%d')}\")\n",
    "    \n",
    "    return pn.panel(pn.Column(\n",
    "                pn.bind(get_obs_on, t=dt_slider), \n",
    "                pn.Row(\n",
    "                    pn.Spacer(width=60),\n",
    "                    dt_slider,\n",
    "                )\n",
    "            ))\n",
    "rgb_during(winter)"
   ]
  },
  {
   "cell_type": "code",
   "execution_count": null,
   "metadata": {},
   "outputs": [],
   "source": [
    "winter = '2022-01-15'\n",
    "spring = '2022-04-15'\n",
    "summer = '2022-08-01'\n",
    "fall = '2022-09-15'\n",
    "\n",
    "winter_plot = rgb_during(winter)\n",
    "spring_plot = rgb_during(spring)\n",
    "summer_plot = rgb_during(summer)\n",
    "fall_plot = rgb_during(fall)\n",
    "\n",
    "pn.Column(\n",
    "    pn.Row(winter_plot, spring_plot),\n",
    "    pn.Row(summer_plot, fall_plot)\n",
    ")"
   ]
  }
 ],
 "metadata": {
  "kernelspec": {
   "display_name": "Python 3 (ipykernel)",
   "language": "python",
   "name": "python3"
  },
  "language_info": {
   "codemirror_mode": {
    "name": "ipython",
    "version": 3
   },
   "file_extension": ".py",
   "mimetype": "text/x-python",
   "name": "python",
   "nbconvert_exporter": "python",
   "pygments_lexer": "ipython3",
   "version": "3.11.4"
  }
 },
 "nbformat": 4,
 "nbformat_minor": 4
}
